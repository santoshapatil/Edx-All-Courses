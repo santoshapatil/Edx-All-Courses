{
  "nbformat": 4,
  "nbformat_minor": 0,
  "metadata": {
    "colab": {
      "name": "edx all Courses.ipynb",
      "provenance": [],
      "collapsed_sections": [],
      "authorship_tag": "ABX9TyOZaFblbbvTUOoWqtQdvsLe",
      "include_colab_link": true
    },
    "kernelspec": {
      "name": "python3",
      "display_name": "Python 3"
    }
  },
  "cells": [
    {
      "cell_type": "markdown",
      "metadata": {
        "id": "view-in-github",
        "colab_type": "text"
      },
      "source": [
        "<a href=\"https://colab.research.google.com/github/santoshapatil/Edx-All-Courses/blob/main/edx_all_Courses.ipynb\" target=\"_parent\"><img src=\"https://colab.research.google.com/assets/colab-badge.svg\" alt=\"Open In Colab\"/></a>"
      ]
    },
    {
      "cell_type": "code",
      "metadata": {
        "id": "DliLoZ7vbcCj"
      },
      "source": [
        ""
      ],
      "execution_count": null,
      "outputs": []
    },
    {
      "cell_type": "code",
      "metadata": {
        "id": "-_JIDZged-P_"
      },
      "source": [
        "!apt update\n",
        "!apt install chromium-chromedriver\n",
        "!pip install selenium\n",
        "# set options to be headless, ..\n",
        "from selenium import webdriver\n",
        "options = webdriver.ChromeOptions()\n",
        "options.add_argument('--headless')\n",
        "options.add_argument('--no-sandbox')\n",
        "options.add_argument('--disable-dev-shm-usage')\n",
        "# open it, go to a website, and get results\n"
      ],
      "execution_count": null,
      "outputs": []
    },
    {
      "cell_type": "code",
      "metadata": {
        "id": "5wkdHVKgreT9"
      },
      "source": [
        "from selenium import webdriver\n",
        "options = webdriver.ChromeOptions()\n",
        "options.add_argument('--headless')\n",
        "options.add_argument('--no-sandbox')\n",
        "options.add_argument('--disable-dev-shm-usage')\n",
        "# open it, go to a website, and get results"
      ],
      "execution_count": 104,
      "outputs": []
    },
    {
      "cell_type": "code",
      "metadata": {
        "id": "ObSO1W_2trxA"
      },
      "source": [
        "import pandas as pd\n",
        "from selenium import webdriver\n",
        "from selenium.webdriver.common.by import By\n",
        "from selenium.webdriver.support.ui import WebDriverWait\n",
        "from selenium.webdriver.support import expected_conditions as EC\n",
        "from selenium.common.exceptions import NoSuchElementException\n",
        "import time\n",
        "import re\n",
        "from bs4 import BeautifulSoup\n",
        "import requests\n",
        "import os\n",
        "import pandas as pd\n"
      ],
      "execution_count": 120,
      "outputs": []
    },
    {
      "cell_type": "code",
      "metadata": {
        "id": "fJiZKs8k5Q-5"
      },
      "source": [
        "course_name=[]\n",
        "course_type=[]\n",
        "course_photo_URL=[]\n",
        "typ=[]\n",
        "typ_name=[]\n",
        "university_name=[]\n",
        "university_logo=[]\n",
        "course_link=[]\n",
        "course_tit=[]\n",
        "time_required=[]\n",
        "course_level=[]\n",
        "course_language=[]\n",
        "course_subtitles=[]\n",
        "course_skills=[]\n",
        "category=[]\n",
        "sub_category=[]\n",
        "course_rating=[]\n",
        "\n",
        "driver = webdriver.Chrome(options=options)\n",
        "driver.implicitly_wait(5)\n",
        "driver.get(url)\n",
        "\n",
        "#calculating number of pages \n",
        "page_str = driver.find_element_by_xpath('(//button[@class=\"btn page-link\"])[last()]').text\n",
        "total_page = int(page_str)\n",
        "\n"
      ],
      "execution_count": null,
      "outputs": []
    },
    {
      "cell_type": "code",
      "metadata": {
        "id": "thrj3vxB7zvD"
      },
      "source": [
        "driver = webdriver.Chrome(options=options)\n",
        "driver.implicitly_wait(5)\n",
        "driver.get(url)\n",
        "page = driver.page_source\n",
        "soup = BeautifulSoup(page, \"html.parser\")\n"
      ],
      "execution_count": null,
      "outputs": []
    },
    {
      "cell_type": "code",
      "metadata": {
        "id": "MQEeg55Er-Yw"
      },
      "source": [
        "subj={'Architecture',\n",
        "'Art %26 Culture',\n",
        "'Biology %26 Life Sciences',\n",
        "'Business %26 Management',\n",
        "'Chemistry',\n",
        "'Communication',\n",
        "'Computer Science',\n",
        "'Data Analysis %26 Statistics',\n",
        "'Design',\n",
        "'Economics %26 Finance',\n",
        "'Education %26 Teacher Training',\n",
        "'Electronics',\n",
        "'Energy %26 Earth Sciences',\n",
        "'Engineering',\n",
        "'Environmental Studies',\n",
        "'Ethics',\n",
        "'Food %26 Nutrition',\n",
        "'Health %26 Safety',\n",
        "'History',\n",
        "'Humanities',\n",
        "'Language',\n",
        "'Law',\n",
        "'Literature',\n",
        "'Math',\n",
        "'Medicine',\n",
        "'Music',\n",
        "'Philanthropy',\n",
        "'Philosophy %26 Ethics',\n",
        "'Physics',\n",
        "'Science',\n",
        "'Social Sciences'}"
      ],
      "execution_count": 106,
      "outputs": []
    },
    {
      "cell_type": "code",
      "metadata": {
        "id": "0ie1hu-SV4IM",
        "outputId": "534faf7e-3f03-437b-8076-86d7b8e1bdbb",
        "colab": {
          "base_uri": "https://localhost:8080/"
        }
      },
      "source": [
        "course_name=[]\n",
        "course_type=[]\n",
        "course_photo_URL=[]\n",
        "typ=[]\n",
        "typ_name=[]\n",
        "university_name=[]\n",
        "university_logo=[]\n",
        "course_link=[]\n",
        "course_tit=[]\n",
        "time_required=[]\n",
        "course_level=[]\n",
        "course_language=[]\n",
        "course_subtitles=[]\n",
        "course_skills=[]\n",
        "category=[]\n",
        "sub_category=[]\n",
        "course_rating=[]\n",
        "dup=[]\n",
        "for u in subj:\n",
        "  subj_url=\"https://www.edx.org/search?subject=\"+u+\"&tab=course\"\n",
        "  driver = webdriver.Chrome(options=options)\n",
        "  driver.implicitly_wait(0.5)\n",
        "  driver.get(subj_url)\n",
        "  try:\n",
        "    n_of_pgs = driver.find_element_by_xpath('(//button[@class=\"btn page-link\"])')\n",
        "    if n_of_pgs is None:\n",
        "      get_course(subj_url,1)\n",
        "    else:\n",
        "      n_of_pgs = driver.find_element_by_xpath('(//button[@class=\"btn page-link\"])[last()]').text\n",
        "      n_of_pg = int(n_of_pgs)\n",
        "      get_course(subj_url,n_of_pg)\n",
        "  except NoSuchElementException :\n",
        "    page = driver.page_source\n",
        "    soup = BeautifulSoup(page, \"html.parser\")\n",
        "    \n",
        "    c_p_pg=len(soup.find_all('a',class_='discovery-card-link'))\n",
        "    print(c_p_pg)\n",
        "    for j in range(c_p_pg):\n",
        "\n",
        "    \n",
        "    #Attaching course Name/Title\n",
        "      cnn=soup.find_all('h3',class_=\"name-heading\")[j]\n",
        "      if cnn is None:\n",
        "        continue\n",
        "      else:\n",
        "        cnn=cnn.get_text()\n",
        "        course_name.append(cnn)\n",
        "    \n",
        "    #Attaching Course Link\n",
        "      c_url=soup.find_all('a',class_='discovery-card-link')[j]\n",
        "      clink=\"https://www.edx.org\" + c_url.get('href')\n",
        "      course_link.append(clink)\n",
        "\n",
        "    #attaching University /name\n",
        "      univ = soup.find_all('div',class_='provider')[j]\n",
        "      university_name.append(univ)\n",
        "\n",
        "    #attaching University photo\n",
        "      try:\n",
        "        u_logo=soup.find('img',class_='partner-logo')[j]\n",
        "        l=u_logo.get('src')\n",
        "        university_logo.append(l)\n",
        "      except:\n",
        "        university_logo.append(\"not-mentioned\")\n",
        "    \n",
        "    #attaching Course photo\n",
        "    \n",
        "      try:\n",
        "\n",
        "        c_pic=soup.find_all('div',class_='d-card-hero')[j]\n",
        "        cp=c_pic.find('img').get('src')\n",
        "        course_photo_URL.append(cp)\n",
        "      except:\n",
        "        course_photo_URL.append(\"not-mentioned\")\n",
        "\n",
        "\n",
        "  "
      ],
      "execution_count": 127,
      "outputs": [
        {
          "output_type": "stream",
          "text": [
            "https://www.edx.org/search?subject=Law&tab=course\n",
            "24\n",
            "24\n",
            "24\n",
            "20\n",
            "done\n",
            "https://www.edx.org/search?subject=Literature&tab=course\n",
            "24\n",
            "24\n",
            "21\n",
            "done\n",
            "https://www.edx.org/search?subject=Chemistry&tab=course\n",
            "24\n",
            "24\n",
            "12\n",
            "done\n",
            "3\n",
            "https://www.edx.org/search?subject=Engineering&tab=course\n",
            "24\n",
            "24\n",
            "24\n",
            "24\n",
            "24\n",
            "24\n",
            "24\n",
            "24\n",
            "24\n",
            "24\n",
            "24\n",
            "24\n",
            "24\n",
            "24\n",
            "24\n",
            "24\n",
            "24\n",
            "24\n",
            "24\n",
            "24\n",
            "24\n",
            "8\n",
            "done\n",
            "https://www.edx.org/search?subject=Design&tab=course\n",
            "24\n",
            "24\n",
            "24\n",
            "22\n",
            "done\n",
            "https://www.edx.org/search?subject=Environmental Studies&tab=course\n",
            "24\n",
            "24\n",
            "24\n",
            "24\n",
            "24\n",
            "24\n",
            "24\n",
            "19\n",
            "done\n",
            "https://www.edx.org/search?subject=History&tab=course\n",
            "24\n",
            "24\n",
            "24\n",
            "24\n",
            "24\n",
            "24\n",
            "24\n",
            "11\n",
            "done\n",
            "https://www.edx.org/search?subject=Music&tab=course\n",
            "24\n",
            "5\n",
            "done\n",
            "https://www.edx.org/search?subject=Computer Science&tab=course\n",
            "24\n",
            "24\n",
            "24\n",
            "24\n",
            "24\n",
            "24\n",
            "24\n",
            "24\n",
            "24\n",
            "24\n",
            "24\n",
            "24\n",
            "24\n",
            "24\n",
            "24\n",
            "24\n",
            "24\n",
            "24\n",
            "24\n",
            "24\n",
            "24\n",
            "24\n",
            "24\n",
            "24\n",
            "24\n",
            "2\n",
            "done\n",
            "https://www.edx.org/search?subject=Medicine&tab=course\n",
            "24\n",
            "24\n",
            "24\n",
            "24\n",
            "24\n",
            "24\n",
            "24\n",
            "24\n",
            "18\n",
            "done\n",
            "https://www.edx.org/search?subject=Economics %26 Finance&tab=course\n",
            "24\n",
            "24\n",
            "24\n",
            "24\n",
            "24\n",
            "24\n",
            "24\n",
            "24\n",
            "24\n",
            "24\n",
            "24\n",
            "24\n",
            "24\n",
            "13\n",
            "done\n",
            "https://www.edx.org/search?subject=Ethics&tab=course\n",
            "24\n",
            "5\n",
            "done\n",
            "https://www.edx.org/search?subject=Education %26 Teacher Training&tab=course\n",
            "24\n",
            "24\n",
            "24\n",
            "24\n",
            "24\n",
            "24\n",
            "10\n",
            "done\n",
            "https://www.edx.org/search?subject=Philosophy %26 Ethics&tab=course\n",
            "24\n",
            "24\n",
            "24\n",
            "24\n",
            "4\n",
            "done\n",
            "https://www.edx.org/search?subject=Data Analysis %26 Statistics&tab=course\n",
            "24\n",
            "24\n",
            "24\n",
            "24\n",
            "24\n",
            "24\n",
            "24\n",
            "24\n",
            "24\n",
            "24\n",
            "24\n",
            "24\n",
            "11\n",
            "done\n",
            "https://www.edx.org/search?subject=Art %26 Culture&tab=course\n",
            "24\n",
            "24\n",
            "24\n",
            "24\n",
            "24\n",
            "24\n",
            "24\n",
            "9\n",
            "done\n",
            "https://www.edx.org/search?subject=Math&tab=course\n",
            "24\n",
            "24\n",
            "24\n",
            "24\n",
            "24\n",
            "24\n",
            "16\n",
            "done\n",
            "https://www.edx.org/search?subject=Communication&tab=course\n",
            "24\n",
            "24\n",
            "24\n",
            "24\n",
            "24\n",
            "24\n",
            "24\n",
            "16\n",
            "done\n",
            "https://www.edx.org/search?subject=Biology %26 Life Sciences&tab=course\n",
            "24\n",
            "24\n",
            "24\n",
            "24\n",
            "24\n",
            "24\n",
            "24\n",
            "24\n",
            "21\n",
            "done\n",
            "https://www.edx.org/search?subject=Food %26 Nutrition&tab=course\n",
            "24\n",
            "24\n",
            "12\n",
            "done\n",
            "https://www.edx.org/search?subject=Language&tab=course\n",
            "24\n",
            "24\n",
            "24\n",
            "2\n",
            "done\n",
            "https://www.edx.org/search?subject=Energy %26 Earth Sciences&tab=course\n",
            "24\n",
            "24\n",
            "24\n",
            "22\n",
            "done\n",
            "https://www.edx.org/search?subject=Science&tab=course\n",
            "24\n",
            "24\n",
            "24\n",
            "24\n",
            "24\n",
            "24\n",
            "24\n",
            "24\n",
            "24\n",
            "24\n",
            "24\n",
            "13\n",
            "done\n",
            "https://www.edx.org/search?subject=Humanities&tab=course\n",
            "24\n",
            "24\n",
            "24\n",
            "24\n",
            "24\n",
            "24\n",
            "24\n",
            "24\n",
            "24\n",
            "24\n",
            "24\n",
            "24\n",
            "24\n",
            "4\n",
            "done\n",
            "https://www.edx.org/search?subject=Business %26 Management&tab=course\n",
            "24\n",
            "24\n",
            "24\n",
            "24\n",
            "24\n",
            "24\n",
            "24\n",
            "24\n",
            "24\n",
            "24\n",
            "24\n",
            "24\n",
            "24\n",
            "24\n",
            "24\n",
            "24\n",
            "24\n",
            "24\n",
            "24\n",
            "24\n",
            "24\n",
            "24\n",
            "24\n",
            "24\n",
            "24\n",
            "24\n",
            "24\n",
            "24\n",
            "24\n",
            "2\n",
            "done\n",
            "https://www.edx.org/search?subject=Physics&tab=course\n",
            "24\n",
            "24\n",
            "24\n",
            "24\n",
            "24\n",
            "24\n",
            "24\n",
            "12\n",
            "done\n",
            "https://www.edx.org/search?subject=Electronics&tab=course\n",
            "24\n",
            "24\n",
            "24\n",
            "10\n",
            "done\n",
            "https://www.edx.org/search?subject=Health %26 Safety&tab=course\n",
            "24\n",
            "24\n",
            "24\n",
            "24\n",
            "24\n",
            "24\n",
            "24\n",
            "7\n",
            "done\n",
            "https://www.edx.org/search?subject=Social Sciences&tab=course\n",
            "24\n",
            "24\n",
            "24\n",
            "24\n",
            "24\n",
            "24\n",
            "24\n",
            "24\n",
            "24\n",
            "24\n",
            "24\n",
            "24\n",
            "24\n",
            "24\n",
            "24\n",
            "24\n",
            "24\n",
            "16\n",
            "done\n",
            "https://www.edx.org/search?subject=Architecture&tab=course\n",
            "24\n",
            "24\n",
            "done\n"
          ],
          "name": "stdout"
        }
      ]
    },
    {
      "cell_type": "code",
      "metadata": {
        "id": "PYh0l5rgu0Yg",
        "outputId": "1917c4f5-d45a-47e9-d4d9-6f1054795cea",
        "colab": {
          "base_uri": "https://localhost:8080/"
        }
      },
      "source": [
        "len(dup)"
      ],
      "execution_count": 130,
      "outputs": [
        {
          "output_type": "execute_result",
          "data": {
            "text/plain": [
              "3024"
            ]
          },
          "metadata": {
            "tags": []
          },
          "execution_count": 130
        }
      ]
    },
    {
      "cell_type": "code",
      "metadata": {
        "id": "SiDBArZ3cjrh",
        "outputId": "b1e46632-9a06-4524-c5ec-e3d6d3377206",
        "colab": {
          "base_uri": "https://localhost:8080/"
        }
      },
      "source": [
        "len(course_link)"
      ],
      "execution_count": 128,
      "outputs": [
        {
          "output_type": "execute_result",
          "data": {
            "text/plain": [
              "3082"
            ]
          },
          "metadata": {
            "tags": []
          },
          "execution_count": 128
        }
      ]
    },
    {
      "cell_type": "code",
      "metadata": {
        "id": "Dl7UgfAtdOSS"
      },
      "source": [
        "course_name"
      ],
      "execution_count": null,
      "outputs": []
    },
    {
      "cell_type": "code",
      "metadata": {
        "id": "0DHKkLgQVd2H"
      },
      "source": [
        "def get_course(u,n_p):\n",
        "  print(u)\n",
        "  total_page=n_p\n",
        "  driver = webdriver.Chrome(options=options)\n",
        "  driver.implicitly_wait(1)\n",
        "  driver.get(u)\n",
        "  page = driver.page_source\n",
        "  soup = BeautifulSoup(page, \"html.parser\")\n",
        "  for i in range(1,total_page+1):\n",
        "  #driver = webdriver.Chrome(options=options)\n",
        "  #driver.implicitly_wait(5)\n",
        "  \n",
        "    go=i\n",
        "    c_xpath = '//div[@class=\"discovery-card Verified and Audit col col-xl-3 mb-4 static-card-spacing\"]/a[@class=\"discovery-card-link\"]'\n",
        "    c_p_pg=len(soup.find_all('a',class_='discovery-card-link'))\n",
        "    print(c_p_pg)\n",
        "    for j in range(c_p_pg):\n",
        "    \n",
        "    #Attaching Course Link\n",
        "      c_url=soup.find_all('a',class_='discovery-card-link')[j]\n",
        "      clink=\"https://www.edx.org\" + c_url.get('href')\n",
        "      if clink in course_link:\n",
        "        dup.append(clink)\n",
        "        continue\n",
        "      else:\n",
        "        course_link.append(clink)\n",
        "    \n",
        "    #Attaching course Name/Title\n",
        "      cnn=soup.find_all('h3',class_=\"name-heading\")[j]\n",
        "      if cnn is None:\n",
        "        continue\n",
        "      else:\n",
        "        cnn=cnn.get_text()\n",
        "        course_name.append(cnn)\n",
        "\n",
        "    #attaching University /name\n",
        "      univ = soup.find_all('div',class_='provider')[j].get_text()\n",
        "      university_name.append(univ)\n",
        "\n",
        "    #attaching University photo\n",
        "      try:\n",
        "        u_logo=soup.find('img',class_='partner-logo')[j]\n",
        "        l=u_logo.get('src')\n",
        "        university_logo.append(l)\n",
        "      except:\n",
        "        university_logo.append(\"not-mentioned\")\n",
        "    \n",
        "    #attaching Course photo\n",
        "    \n",
        "      try:\n",
        "\n",
        "        c_pic=soup.find_all('div',class_='d-card-hero')[j]\n",
        "        cp=c_pic.find('img').get('src')\n",
        "        course_photo_URL.append(cp)\n",
        "      except:\n",
        "        course_photo_URL.append(\"not-mentioned\")\n",
        "    if i!=total_page:\n",
        "      driver.find_element_by_xpath('//button[@class=\"btn next page-link\"]').click()\n",
        "    \n",
        "      WebDriverWait(driver, 7).until(EC.visibility_of_element_located((By.XPATH, c_xpath)))\n",
        "    #wait for another 30 seconds for the page to load completely\n",
        "      time.sleep(6)\n",
        "      #driver.get(url)\n",
        "      go=go+1\n",
        "      check = '//button[@aria-label=\"Page ' + str(go) + ', Current Page\"]'\n",
        "      page = driver.page_source\n",
        "      soup = BeautifulSoup(page, \"html.parser\")\n",
        "    else:\n",
        "      break\n",
        "  print(\"done\")"
      ],
      "execution_count": 126,
      "outputs": []
    },
    {
      "cell_type": "code",
      "metadata": {
        "id": "5AZoB3_gEMft"
      },
      "source": [
        "course_link"
      ],
      "execution_count": null,
      "outputs": []
    },
    {
      "cell_type": "code",
      "metadata": {
        "id": "WEJmcdcvFeaW",
        "outputId": "ebfb86b7-2c63-4c38-ed0a-5242f0ab1bfa",
        "colab": {
          "base_uri": "https://localhost:8080/"
        }
      },
      "source": [
        "len(dup)"
      ],
      "execution_count": 131,
      "outputs": [
        {
          "output_type": "execute_result",
          "data": {
            "text/plain": [
              "3024"
            ]
          },
          "metadata": {
            "tags": []
          },
          "execution_count": 131
        }
      ]
    },
    {
      "cell_type": "code",
      "metadata": {
        "id": "k25IaF_vKMgy",
        "outputId": "3927a1dc-3059-4b4b-ca64-27c0e11ed1f6",
        "colab": {
          "base_uri": "https://localhost:8080/"
        }
      },
      "source": [
        "len(university_logo)"
      ],
      "execution_count": 133,
      "outputs": [
        {
          "output_type": "execute_result",
          "data": {
            "text/plain": [
              "3082"
            ]
          },
          "metadata": {
            "tags": []
          },
          "execution_count": 133
        }
      ]
    },
    {
      "cell_type": "code",
      "metadata": {
        "id": "BfQRVtkKFrBe"
      },
      "source": [
        "edx_courses_catalog=pd.DataFrame(({'course_name':course_name,\n",
        "                              'course_link':course_link,\n",
        "                              'university_name':university_name,\n",
        "                              'university_logo':university_logo,\n",
        "                              'course_photo_URL':course_photo_URL\n",
        "                              }))\n",
        "\n"
      ],
      "execution_count": 135,
      "outputs": []
    },
    {
      "cell_type": "code",
      "metadata": {
        "id": "65vBO_NgGqy-"
      },
      "source": [
        "#writing into a .csv file\n",
        "edx_courses_catalog.to_csv('edx_courses_catalog.csv')"
      ],
      "execution_count": 136,
      "outputs": []
    },
    {
      "cell_type": "code",
      "metadata": {
        "id": "z65NTAPvGwxN",
        "outputId": "c62e9fc6-868c-4c11-9ec4-0163340438ba",
        "colab": {
          "base_uri": "https://localhost:8080/"
        }
      },
      "source": [
        "edx_courses_catalog.university_logo.unique"
      ],
      "execution_count": 139,
      "outputs": [
        {
          "output_type": "execute_result",
          "data": {
            "text/plain": [
              "<bound method Series.unique of 0       not-mentioned\n",
              "1       not-mentioned\n",
              "2       not-mentioned\n",
              "3       not-mentioned\n",
              "4       not-mentioned\n",
              "            ...      \n",
              "3077    not-mentioned\n",
              "3078    not-mentioned\n",
              "3079    not-mentioned\n",
              "3080    not-mentioned\n",
              "3081    not-mentioned\n",
              "Name: university_logo, Length: 3082, dtype: object>"
            ]
          },
          "metadata": {
            "tags": []
          },
          "execution_count": 139
        }
      ]
    },
    {
      "cell_type": "code",
      "metadata": {
        "id": "K4IERtxjHpLc"
      },
      "source": [
        ""
      ],
      "execution_count": null,
      "outputs": []
    }
  ]
}