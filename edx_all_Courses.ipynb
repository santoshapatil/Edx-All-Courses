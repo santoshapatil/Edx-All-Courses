{
  "nbformat": 4,
  "nbformat_minor": 0,
  "metadata": {
    "colab": {
      "name": "edx all Courses.ipynb",
      "provenance": [],
      "authorship_tag": "ABX9TyPix4/dR+2aSW8RYDbBum9P"
    },
    "kernelspec": {
      "name": "python3",
      "display_name": "Python 3"
    }
  },
  "cells": [
    {
      "cell_type": "code",
      "metadata": {
        "id": "DliLoZ7vbcCj"
      },
      "source": [
        ""
      ],
      "execution_count": null,
      "outputs": []
    }
  ]
}