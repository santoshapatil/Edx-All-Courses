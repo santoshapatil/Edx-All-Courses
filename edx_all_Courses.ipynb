{
  "nbformat": 4,
  "nbformat_minor": 0,
  "metadata": {
    "colab": {
      "name": "edx all Courses.ipynb",
      "provenance": [],
      "collapsed_sections": [],
      "authorship_tag": "ABX9TyN2XVlVuGjPud9qKyniVYEa",
      "include_colab_link": true
    },
    "kernelspec": {
      "name": "python3",
      "display_name": "Python 3"
    }
  },
  "cells": [
    {
      "cell_type": "markdown",
      "metadata": {
        "id": "view-in-github",
        "colab_type": "text"
      },
      "source": [
        "<a href=\"https://colab.research.google.com/github/santoshapatil/Edx-All-Courses/blob/main/edx_all_Courses.ipynb\" target=\"_parent\"><img src=\"https://colab.research.google.com/assets/colab-badge.svg\" alt=\"Open In Colab\"/></a>"
      ]
    },
    {
      "cell_type": "code",
      "metadata": {
        "id": "DliLoZ7vbcCj"
      },
      "source": [
        ""
      ],
      "execution_count": 4,
      "outputs": []
    },
    {
      "cell_type": "code",
      "metadata": {
        "id": "-_JIDZged-P_"
      },
      "source": [
        "!apt update\n",
        "!apt install chromium-chromedriver\n",
        "!pip install selenium\n",
        "# set options to be headless, ..\n",
        "from selenium import webdriver\n",
        "options = webdriver.ChromeOptions()\n",
        "options.add_argument('--headless')\n",
        "options.add_argument('--no-sandbox')\n",
        "options.add_argument('--disable-dev-shm-usage')\n",
        "# open it, go to a website, and get results\n"
      ],
      "execution_count": null,
      "outputs": []
    },
    {
      "cell_type": "code",
      "metadata": {
        "id": "ObSO1W_2trxA"
      },
      "source": [
        "import pandas as pd\n",
        "from selenium import webdriver\n",
        "from selenium.webdriver.common.by import By\n",
        "from selenium.webdriver.support.ui import WebDriverWait\n",
        "from selenium.webdriver.support import expected_conditions as EC\n",
        "import time\n",
        "import re\n",
        "from bs4 import BeautifulSoup\n",
        "import requests\n",
        "import os\n",
        "import pandas as pd\n"
      ],
      "execution_count": 59,
      "outputs": []
    },
    {
      "cell_type": "code",
      "metadata": {
        "id": "cLZv3YqycHvl"
      },
      "source": [
        "wd = \n",
        "wd.get(\"https://www.edx.org/search\")\n",
        "print(wd.page_source)  # results\n",
        "# divs = wd.find_elements_by_css_selector('div')"
      ],
      "execution_count": null,
      "outputs": []
    },
    {
      "cell_type": "code",
      "metadata": {
        "id": "BhsUIApVcIr-"
      },
      "source": [
        "url=\"https://www.edx.org/search?subject=Architecture&tab=course\""
      ],
      "execution_count": 1,
      "outputs": []
    },
    {
      "cell_type": "code",
      "metadata": {
        "id": "fJiZKs8k5Q-5"
      },
      "source": [
        "course_name=[]\n",
        "course_type=[]\n",
        "course_photo_URL=[]\n",
        "typ=[]\n",
        "typ_name=[]\n",
        "university_name=[]\n",
        "university_logo=[]\n",
        "course_link=[]\n",
        "course_tit=[]\n",
        "time_required=[]\n",
        "course_level=[]\n",
        "course_language=[]\n",
        "course_subtitles=[]\n",
        "course_skills=[]\n",
        "category=[]\n",
        "sub_category=[]\n",
        "course_rating=[]\n",
        "\n",
        "driver = webdriver.Chrome(options=options)\n",
        "driver.implicitly_wait(5)\n",
        "driver.get(url)\n",
        "\n",
        "#calculating number of pages \n",
        "page_str = driver.find_element_by_xpath('(//button[@class=\"btn page-link\"])[last()]').text\n",
        "total_page = int(page_str)\n",
        "\n"
      ],
      "execution_count": 60,
      "outputs": []
    },
    {
      "cell_type": "code",
      "metadata": {
        "id": "Z9_Ay-nILW7A"
      },
      "source": [
        "total_page"
      ],
      "execution_count": null,
      "outputs": []
    },
    {
      "cell_type": "code",
      "metadata": {
        "id": "thrj3vxB7zvD"
      },
      "source": [
        "driver = webdriver.Chrome(options=options)\n",
        "driver.implicitly_wait(5)\n",
        "driver.get(url)\n",
        "page = driver.page_source\n",
        "soup = BeautifulSoup(page, \"html.parser\")\n"
      ],
      "execution_count": 16,
      "outputs": []
    },
    {
      "cell_type": "code",
      "metadata": {
        "id": "Vi8NSY9M8iJz",
        "outputId": "b88fe821-fc89-4b61-a1e1-d97def9d80b6",
        "colab": {
          "base_uri": "https://localhost:8080/"
        }
      },
      "source": [
        "page_str = driver.find_element_by_xpath('(//button[@class=\"btn page-link\"])[last()]').text\n",
        "total_page = int(page_str)\n",
        "total_page"
      ],
      "execution_count": 79,
      "outputs": [
        {
          "output_type": "execute_result",
          "data": {
            "text/plain": [
              "2"
            ]
          },
          "metadata": {
            "tags": []
          },
          "execution_count": 79
        }
      ]
    },
    {
      "cell_type": "code",
      "metadata": {
        "id": "APsxhMP2-DIU"
      },
      "source": [
        "butt.click()"
      ],
      "execution_count": null,
      "outputs": []
    },
    {
      "cell_type": "code",
      "metadata": {
        "id": "0ie1hu-SV4IM"
      },
      "source": [
        "course_name=[]\n",
        "course_type=[]\n",
        "course_photo_URL=[]\n",
        "typ=[]\n",
        "typ_name=[]\n",
        "university_name=[]\n",
        "university_logo=[]\n",
        "course_link=[]\n",
        "course_tit=[]\n",
        "time_required=[]\n",
        "course_level=[]\n",
        "course_language=[]\n",
        "course_subtitles=[]\n",
        "course_skills=[]\n",
        "category=[]\n",
        "sub_category=[]\n",
        "course_rating=[]\n",
        "\n",
        "\n",
        "\n",
        "urls={\"https://www.edx.org/search?subject=Architecture&tab=course\",\"https://www.edx.org/search?subject=Food%20%26%20Nutrition&tab=course\"}\n",
        "for u in urls:\n",
        "  driver = webdriver.Chrome(options=options)\n",
        "  driver.implicitly_wait(2)\n",
        "  driver.get(u)\n",
        "  n_of_pgs = driver.find_element_by_xpath('(//button[@class=\"btn page-link\"])[last()]').text\n",
        "  n_of_pg = int(n_of_pgs)\n",
        "  get_course(u,n_of_pg)"
      ],
      "execution_count": null,
      "outputs": []
    },
    {
      "cell_type": "code",
      "metadata": {
        "id": "SiDBArZ3cjrh",
        "outputId": "88910a9e-bbd3-4076-9a55-ec7d5e455dcc",
        "colab": {
          "base_uri": "https://localhost:8080/"
        }
      },
      "source": [
        "len(course_link)"
      ],
      "execution_count": 96,
      "outputs": [
        {
          "output_type": "execute_result",
          "data": {
            "text/plain": [
              "72"
            ]
          },
          "metadata": {
            "tags": []
          },
          "execution_count": 96
        }
      ]
    },
    {
      "cell_type": "code",
      "metadata": {
        "id": "Dl7UgfAtdOSS"
      },
      "source": [
        "course_name"
      ],
      "execution_count": null,
      "outputs": []
    },
    {
      "cell_type": "code",
      "metadata": {
        "id": "0DHKkLgQVd2H"
      },
      "source": [
        "def get_course(u,n_p):\n",
        "\n",
        "  total_page=n_p\n",
        "  driver = webdriver.Chrome(options=options)\n",
        "  driver.implicitly_wait(2)\n",
        "  driver.get(u)\n",
        "  page = driver.page_source\n",
        "  soup = BeautifulSoup(page, \"html.parser\")\n",
        "  for i in range(1,total_page+1):\n",
        "  #driver = webdriver.Chrome(options=options)\n",
        "  #driver.implicitly_wait(5)\n",
        "  \n",
        "    go=i\n",
        "    c_xpath = '//div[@class=\"discovery-card Verified and Audit col col-xl-3 mb-4 static-card-spacing\"]/a[@class=\"discovery-card-link\"]'\n",
        "    c_p_pg=len(soup.find_all('a',class_='discovery-card-link'))\n",
        "    print(c_p_pg)\n",
        "    for j in range(c_p_pg):\n",
        "    \n",
        "    #Attaching course Name/Title\n",
        "      cnn=soup.find_all('h3',class_=\"name-heading\")[j]\n",
        "      if cnn is None:\n",
        "        continue\n",
        "      else:\n",
        "        cnn=cnn.get_text()\n",
        "        course_name.append(cnn)\n",
        "    \n",
        "    #Attaching Course Link\n",
        "      c_url=soup.find_all('a',class_='discovery-card-link')[j]\n",
        "      clink=\"https://www.edx.org\" + c_url.get('href')\n",
        "      course_link.append(clink)\n",
        "\n",
        "    #attaching University /name\n",
        "      univ = soup.find_all('div',class_='provider')[j]\n",
        "      university_name.append(univ)\n",
        "\n",
        "    #attaching University photo\n",
        "      try:\n",
        "        u_logo=soup.find('img',class_='partner-logo')[j]\n",
        "        l=u_logo.get('src')\n",
        "        university_logo.append(l)\n",
        "      except:\n",
        "        university_logo.append(\"not-mentioned\")\n",
        "    \n",
        "    #attaching Course photo\n",
        "    \n",
        "      try:\n",
        "\n",
        "        c_pic=soup.find_all('div',class_='d-card-hero')[j]\n",
        "        cp=c_pic.find('img').get('src')\n",
        "        course_photo_URL.append(cp)\n",
        "      except:\n",
        "        course_photo_URL.append(\"not-mentioned\")\n",
        "    if i!=total_page:\n",
        "      driver.find_element_by_xpath('//button[@class=\"btn next page-link\"]').click()\n",
        "    \n",
        "      WebDriverWait(driver, 10).until(EC.visibility_of_element_located((By.XPATH, c_xpath)))\n",
        "    #wait for another 30 seconds for the page to load completely\n",
        "      time.sleep(10)\n",
        "      #driver.get(url)\n",
        "      go=go+1\n",
        "      check = '//button[@aria-label=\"Page ' + str(go) + ', Current Page\"]'\n",
        "      page = driver.page_source\n",
        "      soup = BeautifulSoup(page, \"html.parser\")\n",
        "    else:\n",
        "      break\n",
        "  print(\"done\")"
      ],
      "execution_count": 101,
      "outputs": []
    },
    {
      "cell_type": "code",
      "metadata": {
        "id": "CTHagaPv-D-G"
      },
      "source": [
        "course_name=[]\n",
        "course_type=[]\n",
        "course_photo_URL=[]\n",
        "typ=[]\n",
        "typ_name=[]\n",
        "university_name=[]\n",
        "university_logo=[]\n",
        "course_link=[]\n",
        "course_tit=[]\n",
        "time_required=[]\n",
        "course_level=[]\n",
        "course_language=[]\n",
        "course_subtitles=[]\n",
        "course_skills=[]\n",
        "category=[]\n",
        "sub_category=[]\n",
        "course_rating=[]\n",
        "for i in range(1,total_page+1):\n",
        "  #driver = webdriver.Chrome(options=options)\n",
        "  #driver.implicitly_wait(5)\n",
        "  \n",
        "  go=1\n",
        "  c_xpath = '//div[@class=\"discovery-card Verified and Audit col col-xl-3 mb-4 static-card-spacing\"]/a[@class=\"discovery-card-link\"]'\n",
        "  c_p_pg=len(soup.find_all('a',class_='discovery-card-link'))\n",
        "  for j in range(c_p_pg):\n",
        "    \n",
        "    #Attaching course Name/Title\n",
        "    cnn=soup.find_all('h3',class_=\"name-heading\")[j]\n",
        "    if cnn is None:\n",
        "      continue\n",
        "    else:\n",
        "      cnn=cnn.get_text()\n",
        "      course_name.append(cnn)\n",
        "    \n",
        "    #Attaching Course Link\n",
        "    c_url=soup.find_all('a',class_='discovery-card-link')[j]\n",
        "    clink=\"https://www.edx.org\" + c_url.get('href')\n",
        "    course_link.append(clink)\n",
        "\n",
        "    #attaching University /name\n",
        "    univ = soup.find_all('div',class_='provider')[j]\n",
        "    university_name.append(univ)\n",
        "\n",
        "    #attaching University photo\n",
        "    try:\n",
        "      u_logo=soup.find('img',class_='partner-logo')[j]\n",
        "      l=u_logo.get('src')\n",
        "      university_logo.append(l)\n",
        "    except:\n",
        "      university_logo.append(\"not-mentioned\")\n",
        "    \n",
        "    #attaching Course photo\n",
        "    \n",
        "    try:\n",
        "\n",
        "      c_pic=soup.find_all('div',class_='d-card-hero')[j]\n",
        "      cp=c_pic.find('img').get('src')\n",
        "      course_photo_URL.append(cp)\n",
        "    except:\n",
        "      course_photo_URL.append(\"not-mentioned\")\n",
        "  if i!=total_page:\n",
        "    driver.find_element_by_xpath('//button[@class=\"btn next page-link\"]').click()\n",
        "    \n",
        "    WebDriverWait(driver, 10).until(EC.visibility_of_element_located((By.XPATH, c_xpath)))\n",
        "    #wait for another 30 seconds for the page to load completely\n",
        "    time.sleep(10)\n",
        "    #driver.get(url)\n",
        "    go=go+1\n",
        "    check = '//button[@aria-label=\"Page ' + str(go) + ', Current Page\"]'\n",
        "    page = driver.page_source\n",
        "    soup = BeautifulSoup(page, \"html.parser\")\n",
        "  else:\n",
        "    break\n",
        "\n",
        "\n",
        "    \n",
        "    \n",
        "\n",
        "\n",
        "\n",
        "\n",
        "\n",
        "\n"
      ],
      "execution_count": 75,
      "outputs": []
    },
    {
      "cell_type": "code",
      "metadata": {
        "id": "5AZoB3_gEMft",
        "outputId": "82e81a37-9e7c-44ee-ea59-41766f0bb6b3",
        "colab": {
          "base_uri": "https://localhost:8080/"
        }
      },
      "source": [
        "course_name"
      ],
      "execution_count": 89,
      "outputs": [
        {
          "output_type": "execute_result",
          "data": {
            "text/plain": [
              "['Science & Cooking: FromHaute Cuisine to SoftMatter Science (chemis……',\n",
              " 'The Health Effects ofClimate Change…',\n",
              " 'Nutrition, Exercise andSports…',\n",
              " 'FlashDiet: Aprende acomer sano…',\n",
              " 'Nutrition and Health:Macronutrients andOvernutrition…',\n",
              " 'Science & Cooking: FromHaute Cuisine to SoftMatter Science (physics)…',\n",
              " 'The Science of Beer…',\n",
              " 'World of Wine: FromGrape to Glass…',\n",
              " 'Nutrition and Health:Micronutrients andMalnutrition…',\n",
              " 'Nutrition and Health:Human Microbiome…',\n",
              " 'Nutrition, Heart Diseaseand Diabetes…',\n",
              " 'Mi propia huerta orgánica…',\n",
              " 'Nutrition and Cancer…',\n",
              " 'Beer: the science ofbrewing…',\n",
              " 'Nutrition and Health:Food Risks…',\n",
              " 'UnderstandingAgribusiness, ValueChains, and Consumers……',\n",
              " 'Sustainable FoodSecurity: The value ofsystems thinking…',\n",
              " 'Bienestar para eldesarrollo personal yprofesional…',\n",
              " 'Lifestyle MedicineFundamentals…',\n",
              " 'Feeding a Hungry Planet:Agriculture, Nutrition andSustainability…',\n",
              " 'Lifestyle MedicineTreatments of ChronicDisease – Part 1…',\n",
              " 'Sustainable FoodSecurity: Food Access…',\n",
              " 'Sustainable FoodSystems: AMediterranean Perspec……',\n",
              " 'Logística agrícolasostenible…',\n",
              " 'Lifestyle MedicineTreatments of ChronicDisease – Part 2…',\n",
              " 'Food as Medicine:Preventing and ReversingChronic Disease…',\n",
              " 'Sustainable Agri-foodSupply ChainManagement…',\n",
              " 'De la granja a la mesa: Laseguridad alimentaria enla Unión Europea…',\n",
              " 'Nitrogen: A GlobalChallenge (Urdu)…',\n",
              " 'Sustainable Agri-foodMarketing…',\n",
              " 'Autophagy: ResearchBehind the 2016 NobelPrize\\xa0in Physiology or M……',\n",
              " 'Nitrogen: A GlobalChallenge…',\n",
              " 'Nitrogen: A GlobalChallenge (Hindi)…',\n",
              " 'Agua y sales para unavida saludable…',\n",
              " 'Nitrogen: A GlobalChallenge (Sinhalese)…',\n",
              " 'Sustainable AgribusinessComprehensive Exam…',\n",
              " 'Nitrogen: A GlobalChallenge (Hungarian)…',\n",
              " 'Nitrogen: A GlobalChallenge (Nepalese)…',\n",
              " 'Nitrogen: A GlobalChallenge (Dari)…',\n",
              " 'Mental Health andNutrition…',\n",
              " 'The Science of WeightLoss: Dispelling DietMyths…',\n",
              " 'Nutrition Communicationfor Health Professionals:Key concepts…',\n",
              " 'Nutrition Communicationfor Health Professionals:Applying skills…',\n",
              " 'Introduction To Food &Health…',\n",
              " 'Introduction toHospitality and TourismIndustry…',\n",
              " 'The Ethics of Eating…',\n",
              " 'Food for Thought…',\n",
              " 'CARE: Nutrition in Ageing…',\n",
              " 'The ArchitecturalImagination…',\n",
              " 'Site Planning Online…',\n",
              " 'Sustainability inArchitecture: AnInterdisciplinary Introdu……',\n",
              " 'Data Science forConstruction,Architecture and Engine……',\n",
              " 'Introducción a losencofrados y las cimbrasen obra civil y edificación…',\n",
              " 'What do Architects andUrban Planners do?…',\n",
              " 'Sustainable Cities…',\n",
              " 'Circular Economy for aSustainable BuiltEnvironment…',\n",
              " 'Energy Supply Systemsfor Buildings…',\n",
              " 'Caer o No caer. ElSecreto de lasEstructuras.…',\n",
              " 'Ecodesign for Cities andSuburbs…',\n",
              " 'Modern JapaneseArchitecture Part 1: FromMeiji Restoration to the……',\n",
              " 'GroundscapeArchitecture Design Lab,re-thinking cities underg……',\n",
              " 'Seguridad Vial enAmérica Latina y elCaribe: de la teoría a la……',\n",
              " 'Big Data forUnderstanding UrbanizingChina | 大数据与城市规划…',\n",
              " 'Historia global de laarquitectura islámica:espacio, ciudad, arte…',\n",
              " 'Built environmentsustainabilityassessment…',\n",
              " 'Archeoastronomia eOrologi Solari…',\n",
              " 'Il Teatro e le sue illusioniprospettiche…',\n",
              " 'Efficient HVAC Systems…',\n",
              " 'Zero-Energy Design: anapproach to make yourbuilding sustainable…',\n",
              " 'Thermal Comfort inBuildings…',\n",
              " 'Dynamic EnergyModelling of Buildings:Thermal Simulation…',\n",
              " 'Cultural Heritage inTransformation…',\n",
              " 'Global Housing Design…',\n",
              " 'Four Facets ofContemporary JapaneseArchitecture: City…',\n",
              " 'Building Inclusive Cities:Tackling Urban Inequalityand Segregation…',\n",
              " 'Sustainable BuildingDesign…',\n",
              " 'The Art of StructuralEngineering: Bridges…',\n",
              " 'Energy Demand inBuildings…',\n",
              " 'The Art of StructuralEngineering: Vaults…',\n",
              " 'Models in Architecture –design through physical &digital models…',\n",
              " 'The Meaning of Rome:The Renaissance andBaroque City…',\n",
              " 'Four Facets ofContemporary JapaneseArchitecture: Theory…',\n",
              " 'Nature BasedMetropolitan Solutions…',\n",
              " 'History of ChineseArchitecture | 中国建筑史…',\n",
              " 'Vernacular Architectureof Asia: Tradition,Modernity and Cultural……',\n",
              " 'Interpreting VernacularArchitecture in Asia…',\n",
              " 'Housing and Cities…',\n",
              " 'Four Facets ofContemporary JapaneseArchitecture: Technology…',\n",
              " 'Sustainable UrbanEnvironments…',\n",
              " 'Mechanics of DeformableStructures: Part 1…',\n",
              " 'The Search forVernacular Architectureof Asia, Part 1 | 探索亚洲地区的本土建……',\n",
              " 'Entrepreneurial LandRedevelopmentApproach: Land Readjus……',\n",
              " \"Récits d'urbanisme etquestion des communs…\",\n",
              " '3D Modeling fromArchitectural Drawings…',\n",
              " 'Realistic Architectural 3DModeling…',\n",
              " 'A Global History ofArchitecture…']"
            ]
          },
          "metadata": {
            "tags": []
          },
          "execution_count": 89
        }
      ]
    },
    {
      "cell_type": "code",
      "metadata": {
        "id": "T5tI9LJ-GSXJ"
      },
      "source": [
        "course_name=[]\n",
        "for j in range(c_p_pg):\n",
        "  #Attaching course Name/Title\n",
        "  cnn=soup.find_all('h3',class_=\"name-heading\")[j]\n",
        "  cnn=cnn.get_text()\n",
        "  course_name.append(cnn)\n",
        "  if i<=tot_pg:\n",
        "    driver.find_element_by_xpath('//button[@class=\"btn next page-link\"]').click()\n",
        "    WebDriverWait(driver, 60).until(EC.visibility_of_element_located((By.XPATH, c_xpath)))\n",
        "    #wait for another 30 seconds for the page to load completely\n",
        "    time.sleep(30)\n",
        "    driver.get(url)\n",
        "    page = driver.page_source\n",
        "    soup = BeautifulSoup(page, \"html.parser\")"
      ],
      "execution_count": null,
      "outputs": []
    },
    {
      "cell_type": "code",
      "metadata": {
        "id": "k25IaF_vKMgy",
        "outputId": "0afb0d1c-74b8-45ca-e49a-e34b7bbaabee",
        "colab": {
          "base_uri": "https://localhost:8080/"
        }
      },
      "source": [
        "len(course_name)"
      ],
      "execution_count": 92,
      "outputs": [
        {
          "output_type": "execute_result",
          "data": {
            "text/plain": [
              "96"
            ]
          },
          "metadata": {
            "tags": []
          },
          "execution_count": 92
        }
      ]
    },
    {
      "cell_type": "code",
      "metadata": {
        "id": "mc2slNjeMBdZ"
      },
      "source": [
        "driver = webdriver.Chrome(options=options)\n",
        "driver.implicitly_wait(5)\n",
        "driver.get(url)\n",
        "page = driver.page_source\n",
        "soup = BeautifulSoup(page, \"html.parser\")"
      ],
      "execution_count": null,
      "outputs": []
    }
  ]
}