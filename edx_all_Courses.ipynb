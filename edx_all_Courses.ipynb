{
  "nbformat": 4,
  "nbformat_minor": 0,
  "metadata": {
    "colab": {
      "name": "edx all Courses.ipynb",
      "provenance": [],
      "collapsed_sections": [],
      "authorship_tag": "ABX9TyPtfMsRIIy8MNZAthohpg5w",
      "include_colab_link": true
    },
    "kernelspec": {
      "name": "python3",
      "display_name": "Python 3"
    }
  },
  "cells": [
    {
      "cell_type": "markdown",
      "metadata": {
        "id": "view-in-github",
        "colab_type": "text"
      },
      "source": [
        "<a href=\"https://colab.research.google.com/github/santoshapatil/Edx-All-Courses/blob/main/edx_all_Courses.ipynb\" target=\"_parent\"><img src=\"https://colab.research.google.com/assets/colab-badge.svg\" alt=\"Open In Colab\"/></a>"
      ]
    },
    {
      "cell_type": "code",
      "metadata": {
        "id": "-_JIDZged-P_",
        "outputId": "eec7e574-5794-4666-d34e-42d099bbfccd",
        "colab": {
          "base_uri": "https://localhost:8080/"
        }
      },
      "source": [
        "!apt update\n",
        "!apt install chromium-chromedriver\n",
        "!pip install selenium\n",
        "# set options to be headless, ..\n",
        "from selenium import webdriver\n",
        "options = webdriver.ChromeOptions()\n",
        "options.add_argument('--headless')\n",
        "options.add_argument('--no-sandbox')\n",
        "options.add_argument('--disable-dev-shm-usage')\n",
        "# open it, go to a website, and get results\n"
      ],
      "execution_count": null,
      "outputs": [
        {
          "output_type": "stream",
          "text": [
            "Ign:1 https://developer.download.nvidia.com/compute/cuda/repos/ubuntu1804/x86_64  InRelease\n",
            "Get:2 https://cloud.r-project.org/bin/linux/ubuntu bionic-cran40/ InRelease [3,626 B]\n",
            "Ign:3 https://developer.download.nvidia.com/compute/machine-learning/repos/ubuntu1804/x86_64  InRelease\n",
            "Get:4 http://security.ubuntu.com/ubuntu bionic-security InRelease [88.7 kB]\n",
            "Get:5 http://ppa.launchpad.net/c2d4u.team/c2d4u4.0+/ubuntu bionic InRelease [15.9 kB]\n",
            "Get:6 https://developer.download.nvidia.com/compute/cuda/repos/ubuntu1804/x86_64  Release [697 B]\n",
            "Get:7 https://developer.download.nvidia.com/compute/machine-learning/repos/ubuntu1804/x86_64  Release [564 B]\n",
            "Hit:8 http://archive.ubuntu.com/ubuntu bionic InRelease\n",
            "Get:9 https://developer.download.nvidia.com/compute/cuda/repos/ubuntu1804/x86_64  Release.gpg [836 B]\n",
            "Get:10 https://developer.download.nvidia.com/compute/machine-learning/repos/ubuntu1804/x86_64  Release.gpg [833 B]\n",
            "Get:11 http://archive.ubuntu.com/ubuntu bionic-updates InRelease [88.7 kB]\n",
            "Get:12 http://ppa.launchpad.net/graphics-drivers/ppa/ubuntu bionic InRelease [21.3 kB]\n",
            "Get:13 http://archive.ubuntu.com/ubuntu bionic-backports InRelease [74.6 kB]\n",
            "Ign:14 https://developer.download.nvidia.com/compute/cuda/repos/ubuntu1804/x86_64  Packages\n",
            "Get:14 https://developer.download.nvidia.com/compute/cuda/repos/ubuntu1804/x86_64  Packages [407 kB]\n",
            "Get:15 https://developer.download.nvidia.com/compute/machine-learning/repos/ubuntu1804/x86_64  Packages [58.5 kB]\n",
            "Get:16 http://ppa.launchpad.net/c2d4u.team/c2d4u4.0+/ubuntu bionic/main Sources [1,688 kB]\n",
            "Get:17 http://security.ubuntu.com/ubuntu bionic-security/main amd64 Packages [1,781 kB]\n",
            "Get:18 http://archive.ubuntu.com/ubuntu bionic-updates/universe amd64 Packages [2,130 kB]\n",
            "Get:19 http://security.ubuntu.com/ubuntu bionic-security/universe amd64 Packages [1,365 kB]\n",
            "Get:20 http://security.ubuntu.com/ubuntu bionic-security/restricted amd64 Packages [222 kB]\n",
            "Get:21 http://security.ubuntu.com/ubuntu bionic-security/multiverse amd64 Packages [15.8 kB]\n",
            "Get:22 http://archive.ubuntu.com/ubuntu bionic-updates/restricted amd64 Packages [247 kB]\n",
            "Get:23 http://archive.ubuntu.com/ubuntu bionic-updates/main amd64 Packages [2,198 kB]\n",
            "Get:24 http://archive.ubuntu.com/ubuntu bionic-updates/multiverse amd64 Packages [46.3 kB]\n",
            "Get:25 http://ppa.launchpad.net/c2d4u.team/c2d4u4.0+/ubuntu bionic/main amd64 Packages [864 kB]\n",
            "Get:26 http://ppa.launchpad.net/graphics-drivers/ppa/ubuntu bionic/main amd64 Packages [46.6 kB]\n",
            "Fetched 11.4 MB in 3s (3,442 kB/s)\n",
            "Reading package lists... Done\n",
            "Building dependency tree       \n",
            "Reading state information... Done\n",
            "42 packages can be upgraded. Run 'apt list --upgradable' to see them.\n",
            "Reading package lists... Done\n",
            "Building dependency tree       \n",
            "Reading state information... Done\n",
            "The following additional packages will be installed:\n",
            "  chromium-browser chromium-browser-l10n chromium-codecs-ffmpeg-extra\n",
            "Suggested packages:\n",
            "  webaccounts-chromium-extension unity-chromium-extension adobe-flashplugin\n",
            "The following NEW packages will be installed:\n",
            "  chromium-browser chromium-browser-l10n chromium-chromedriver\n",
            "  chromium-codecs-ffmpeg-extra\n",
            "0 upgraded, 4 newly installed, 0 to remove and 42 not upgraded.\n",
            "Need to get 80.1 MB of archives.\n",
            "After this operation, 271 MB of additional disk space will be used.\n",
            "Get:1 http://archive.ubuntu.com/ubuntu bionic-updates/universe amd64 chromium-codecs-ffmpeg-extra amd64 86.0.4240.75-0ubuntu0.18.04.1 [1,127 kB]\n",
            "Get:2 http://archive.ubuntu.com/ubuntu bionic-updates/universe amd64 chromium-browser amd64 86.0.4240.75-0ubuntu0.18.04.1 [70.9 MB]\n",
            "Get:3 http://archive.ubuntu.com/ubuntu bionic-updates/universe amd64 chromium-browser-l10n all 86.0.4240.75-0ubuntu0.18.04.1 [3,579 kB]\n",
            "Get:4 http://archive.ubuntu.com/ubuntu bionic-updates/universe amd64 chromium-chromedriver amd64 86.0.4240.75-0ubuntu0.18.04.1 [4,486 kB]\n",
            "Fetched 80.1 MB in 3s (24.4 MB/s)\n",
            "Selecting previously unselected package chromium-codecs-ffmpeg-extra.\n",
            "(Reading database ... 144786 files and directories currently installed.)\n",
            "Preparing to unpack .../chromium-codecs-ffmpeg-extra_86.0.4240.75-0ubuntu0.18.04.1_amd64.deb ...\n",
            "Unpacking chromium-codecs-ffmpeg-extra (86.0.4240.75-0ubuntu0.18.04.1) ...\n",
            "Selecting previously unselected package chromium-browser.\n",
            "Preparing to unpack .../chromium-browser_86.0.4240.75-0ubuntu0.18.04.1_amd64.deb ...\n",
            "Unpacking chromium-browser (86.0.4240.75-0ubuntu0.18.04.1) ...\n",
            "Selecting previously unselected package chromium-browser-l10n.\n",
            "Preparing to unpack .../chromium-browser-l10n_86.0.4240.75-0ubuntu0.18.04.1_all.deb ...\n",
            "Unpacking chromium-browser-l10n (86.0.4240.75-0ubuntu0.18.04.1) ...\n",
            "Selecting previously unselected package chromium-chromedriver.\n",
            "Preparing to unpack .../chromium-chromedriver_86.0.4240.75-0ubuntu0.18.04.1_amd64.deb ...\n",
            "Unpacking chromium-chromedriver (86.0.4240.75-0ubuntu0.18.04.1) ...\n",
            "Setting up chromium-codecs-ffmpeg-extra (86.0.4240.75-0ubuntu0.18.04.1) ...\n",
            "Setting up chromium-browser (86.0.4240.75-0ubuntu0.18.04.1) ...\n",
            "update-alternatives: using /usr/bin/chromium-browser to provide /usr/bin/x-www-browser (x-www-browser) in auto mode\n",
            "update-alternatives: using /usr/bin/chromium-browser to provide /usr/bin/gnome-www-browser (gnome-www-browser) in auto mode\n",
            "Setting up chromium-chromedriver (86.0.4240.75-0ubuntu0.18.04.1) ...\n",
            "Setting up chromium-browser-l10n (86.0.4240.75-0ubuntu0.18.04.1) ...\n",
            "Processing triggers for hicolor-icon-theme (0.17-2) ...\n",
            "Processing triggers for mime-support (3.60ubuntu1) ...\n",
            "Processing triggers for man-db (2.8.3-2ubuntu0.1) ...\n",
            "Collecting selenium\n",
            "\u001b[?25l  Downloading https://files.pythonhosted.org/packages/80/d6/4294f0b4bce4de0abf13e17190289f9d0613b0a44e5dd6a7f5ca98459853/selenium-3.141.0-py2.py3-none-any.whl (904kB)\n",
            "\u001b[K     |████████████████████████████████| 911kB 4.3MB/s \n",
            "\u001b[?25hRequirement already satisfied: urllib3 in /usr/local/lib/python3.6/dist-packages (from selenium) (1.24.3)\n",
            "Installing collected packages: selenium\n",
            "Successfully installed selenium-3.141.0\n"
          ],
          "name": "stdout"
        }
      ]
    },
    {
      "cell_type": "code",
      "metadata": {
        "id": "ObSO1W_2trxA"
      },
      "source": [
        "import pandas as pd\n",
        "from selenium import webdriver\n",
        "from selenium.webdriver.common.by import By\n",
        "from selenium.webdriver.support.ui import WebDriverWait\n",
        "from selenium.webdriver.support import expected_conditions as EC\n",
        "from selenium.common.exceptions import NoSuchElementException\n",
        "import time\n",
        "import re\n",
        "from bs4 import BeautifulSoup\n",
        "import requests\n",
        "import os\n",
        "import pandas as pd\n"
      ],
      "execution_count": null,
      "outputs": []
    },
    {
      "cell_type": "code",
      "metadata": {
        "id": "5wkdHVKgreT9"
      },
      "source": [
        "from selenium import webdriver\n",
        "options = webdriver.ChromeOptions()\n",
        "options.add_argument('--headless')\n",
        "options.add_argument('--no-sandbox')\n",
        "options.add_argument('--disable-dev-shm-usage')\n",
        "# open it, go to a website, and get results"
      ],
      "execution_count": null,
      "outputs": []
    },
    {
      "cell_type": "code",
      "metadata": {
        "id": "fJiZKs8k5Q-5"
      },
      "source": [
        "course_name=[]\n",
        "course_type=[]\n",
        "course_photo_URL=[]\n",
        "typ=[]\n",
        "typ_name=[]\n",
        "university_name=[]\n",
        "university_logo=[]\n",
        "course_link=[]\n",
        "course_tit=[]\n",
        "time_required=[]\n",
        "course_level=[]\n",
        "course_language=[]\n",
        "course_subtitles=[]\n",
        "course_skills=[]\n",
        "category=[]\n",
        "sub_category=[]\n",
        "course_rating=[]\n",
        "\n",
        "driver = webdriver.Chrome(options=options)\n",
        "driver.implicitly_wait(5)\n",
        "driver.get(url)\n",
        "\n",
        "#calculating number of pages \n",
        "page_str = driver.find_element_by_xpath('(//button[@class=\"btn page-link\"])[last()]').text\n",
        "total_page = int(page_str)\n",
        "\n"
      ],
      "execution_count": null,
      "outputs": []
    },
    {
      "cell_type": "code",
      "metadata": {
        "id": "thrj3vxB7zvD"
      },
      "source": [
        "driver = webdriver.Chrome(options=options)\n",
        "driver.implicitly_wait(5)\n",
        "driver.get(url)\n",
        "page = driver.page_source\n",
        "soup = BeautifulSoup(page, \"html.parser\")\n"
      ],
      "execution_count": null,
      "outputs": []
    },
    {
      "cell_type": "code",
      "metadata": {
        "id": "MQEeg55Er-Yw"
      },
      "source": [
        "subj={'Architecture',\n",
        "'Art %26 Culture',\n",
        "'Biology %26 Life Sciences',\n",
        "'Business %26 Management',\n",
        "'Chemistry',\n",
        "'Communication',\n",
        "'Computer Science',\n",
        "'Data Analysis %26 Statistics',\n",
        "'Design',\n",
        "'Economics %26 Finance',\n",
        "'Education %26 Teacher Training',\n",
        "'Electronics',\n",
        "'Energy %26 Earth Sciences',\n",
        "'Engineering',\n",
        "'Environmental Studies',\n",
        "'Ethics',\n",
        "'Food %26 Nutrition',\n",
        "'Health %26 Safety',\n",
        "'History',\n",
        "'Humanities',\n",
        "'Language',\n",
        "'Law',\n",
        "'Literature',\n",
        "'Math',\n",
        "'Medicine',\n",
        "'Music',\n",
        "'Philanthropy',\n",
        "'Philosophy %26 Ethics',\n",
        "'Physics',\n",
        "'Science',\n",
        "'Social Sciences'}"
      ],
      "execution_count": null,
      "outputs": []
    },
    {
      "cell_type": "code",
      "metadata": {
        "id": "q_TPNQnT0Jj9"
      },
      "source": [
        "subj=['Architecture','Philanthropy']"
      ],
      "execution_count": null,
      "outputs": []
    },
    {
      "cell_type": "code",
      "metadata": {
        "id": "5c63RUOsf3QN"
      },
      "source": [
        "subj"
      ],
      "execution_count": null,
      "outputs": []
    },
    {
      "cell_type": "code",
      "metadata": {
        "id": "0DHKkLgQVd2H"
      },
      "source": [
        "def get_course(u,n_p):\n",
        "  print(u)\n",
        "  total_page=n_p\n",
        "  driver = webdriver.Chrome(options=options)\n",
        "  driver.implicitly_wait(1)\n",
        "  driver.get(u)\n",
        "  page = driver.page_source\n",
        "  soup = BeautifulSoup(page, \"html.parser\")\n",
        "  for i in range(1,total_page+1):\n",
        "  #driver = webdriver.Chrome(options=options)\n",
        "  #driver.implicitly_wait(5)\n",
        "  \n",
        "    go=i\n",
        "    c_xpath = '//div[@class=\"discovery-card Verified and Audit col col-xl-3 mb-4 static-card-spacing\"]/a[@class=\"discovery-card-link\"]'\n",
        "    c_p_pg=len(soup.find_all('a',class_='discovery-card-link'))\n",
        "    print(c_p_pg)\n",
        "    for j in range(c_p_pg):\n",
        "    \n",
        "    #Attaching Course Link\n",
        "      c_url=soup.find_all('a',class_='discovery-card-link')[j]\n",
        "      clink=\"https://www.edx.org\" + c_url.get('href')\n",
        "      if clink in course_link:\n",
        "        dup.append(clink)\n",
        "        continue\n",
        "      else:\n",
        "        course_link.append(clink)\n",
        "    \n",
        "    #Attaching course Name/Title\n",
        "      cnn=soup.find_all('h3',class_=\"name-heading\")[j]\n",
        "      if cnn is None:\n",
        "        continue\n",
        "      else:\n",
        "        cnn=cnn.get_text()\n",
        "        course_name.append(cnn)\n",
        "\n",
        "    #attaching University /name\n",
        "      univ = soup.find_all('div',class_='provider')[j]\n",
        "      partner=univ.find_all('span')[-2].get_text()\n",
        "      university_name.append(partner)\n",
        "    \n",
        "    #attaching Course photo\n",
        "    \n",
        "      try:\n",
        "\n",
        "        c_pic=soup.find_all('div',class_='d-card-hero')[j]\n",
        "        cp=c_pic.find('img').get('src')\n",
        "        course_photo_URL.append(cp)\n",
        "      except:\n",
        "        course_photo_URL.append(\"not-mentioned\")\n",
        "    if i!=total_page:\n",
        "      driver.find_element_by_xpath('//button[@class=\"btn next page-link\"]').click()\n",
        "    \n",
        "      WebDriverWait(driver, 7).until(EC.visibility_of_element_located((By.XPATH, c_xpath)))\n",
        "    #wait for another 30 seconds for the page to load completely\n",
        "      time.sleep(6)\n",
        "      #driver.get(url)\n",
        "      go=go+1\n",
        "      check = '//button[@aria-label=\"Page ' + str(go) + ', Current Page\"]'\n",
        "      page = driver.page_source\n",
        "      soup = BeautifulSoup(page, \"html.parser\")\n",
        "    else:\n",
        "      break\n",
        "  print(\"done\")"
      ],
      "execution_count": null,
      "outputs": []
    },
    {
      "cell_type": "code",
      "metadata": {
        "id": "0ie1hu-SV4IM"
      },
      "source": [
        "course_name=[]\n",
        "course_type=[]\n",
        "course_photo_URL=[]\n",
        "typ=[]\n",
        "typ_name=[]\n",
        "university_name=[]\n",
        "university_logo=[]\n",
        "course_link=[]\n",
        "course_tit=[]\n",
        "time_required=[]\n",
        "course_level=[]\n",
        "course_language=[]\n",
        "course_subtitles=[]\n",
        "course_skills=[]\n",
        "category=[]\n",
        "sub_category=[]\n",
        "course_rating=[]\n",
        "dup=[]\n",
        "for u in subj:\n",
        "  subj_url=\"https://www.edx.org/search?subject=\"+u+\"&tab=course\"\n",
        "  driver = webdriver.Chrome(options=options)\n",
        "  driver.implicitly_wait(0.5)\n",
        "  driver.get(subj_url)\n",
        "  try:\n",
        "    n_of_pgs = driver.find_element_by_xpath('(//button[@class=\"btn page-link\"])')\n",
        "    if n_of_pgs is None:\n",
        "      get_course(subj_url,1)\n",
        "    else:\n",
        "      n_of_pgs = driver.find_element_by_xpath('(//button[@class=\"btn page-link\"])[last()]').text\n",
        "      n_of_pg = int(n_of_pgs)\n",
        "      get_course(subj_url,n_of_pg)\n",
        "  except NoSuchElementException :\n",
        "    page = driver.page_source\n",
        "    soup = BeautifulSoup(page, \"html.parser\")\n",
        "    \n",
        "    c_p_pg=len(soup.find_all('a',class_='discovery-card-link'))\n",
        "    print(c_p_pg)\n",
        "    for j in range(c_p_pg):\n",
        "\n",
        "    \n",
        "    #Attaching course Name/Title\n",
        "      cnn=soup.find_all('h3',class_=\"name-heading\")[j]\n",
        "      if cnn is None:\n",
        "        continue\n",
        "      else:\n",
        "        cnn=cnn.get_text()\n",
        "        course_name.append(cnn)\n",
        "    \n",
        "    #Attaching Course Link\n",
        "      c_url=soup.find_all('a',class_='discovery-card-link')[j]\n",
        "      clink=\"https://www.edx.org\" + c_url.get('href')\n",
        "      course_link.append(clink)\n",
        "\n",
        "    #attaching University /name\n",
        "      univ = soup.find_all('div',class_='provider')[j]\n",
        "      partner=univ.find_all('span')[-2].get_text()\n",
        "      university_name.append(partner)\n",
        "\n",
        "    \n",
        "    \n",
        "    #attaching Course photo\n",
        "    \n",
        "      try:\n",
        "\n",
        "        c_pic=soup.find_all('div',class_='d-card-hero')[j]\n",
        "        cp=c_pic.find('img').get('src')\n",
        "        course_photo_URL.append(cp)\n",
        "      except:\n",
        "        course_photo_URL.append(\"not-mentioned\")\n",
        "\n",
        "\n",
        "  "
      ],
      "execution_count": null,
      "outputs": []
    },
    {
      "cell_type": "code",
      "metadata": {
        "id": "PYh0l5rgu0Yg",
        "outputId": "1917c4f5-d45a-47e9-d4d9-6f1054795cea",
        "colab": {
          "base_uri": "https://localhost:8080/"
        }
      },
      "source": [
        "len(dup)"
      ],
      "execution_count": null,
      "outputs": [
        {
          "output_type": "execute_result",
          "data": {
            "text/plain": [
              "3024"
            ]
          },
          "metadata": {
            "tags": []
          },
          "execution_count": 130
        }
      ]
    },
    {
      "cell_type": "code",
      "metadata": {
        "id": "SiDBArZ3cjrh",
        "outputId": "b1e46632-9a06-4524-c5ec-e3d6d3377206",
        "colab": {
          "base_uri": "https://localhost:8080/"
        }
      },
      "source": [
        "len(course_link)"
      ],
      "execution_count": null,
      "outputs": [
        {
          "output_type": "execute_result",
          "data": {
            "text/plain": [
              "3082"
            ]
          },
          "metadata": {
            "tags": []
          },
          "execution_count": 128
        }
      ]
    },
    {
      "cell_type": "code",
      "metadata": {
        "id": "WEJmcdcvFeaW",
        "outputId": "ebfb86b7-2c63-4c38-ed0a-5242f0ab1bfa",
        "colab": {
          "base_uri": "https://localhost:8080/"
        }
      },
      "source": [
        "len(dup)"
      ],
      "execution_count": null,
      "outputs": [
        {
          "output_type": "execute_result",
          "data": {
            "text/plain": [
              "3024"
            ]
          },
          "metadata": {
            "tags": []
          },
          "execution_count": 131
        }
      ]
    },
    {
      "cell_type": "code",
      "metadata": {
        "id": "k25IaF_vKMgy",
        "outputId": "1bea0b62-3713-4b36-a14c-ad86760853ae",
        "colab": {
          "base_uri": "https://localhost:8080/"
        }
      },
      "source": [
        "len(university_logo)"
      ],
      "execution_count": null,
      "outputs": [
        {
          "output_type": "execute_result",
          "data": {
            "text/plain": [
              "48"
            ]
          },
          "metadata": {
            "tags": []
          },
          "execution_count": 17
        }
      ]
    },
    {
      "cell_type": "code",
      "metadata": {
        "id": "BfQRVtkKFrBe"
      },
      "source": [
        "edx_courses_catalog=pd.DataFrame(({'course_name':course_name,\n",
        "                              'course_link':course_link,\n",
        "                              'university_name':university_name,\n",
        "                              'course_photo_URL':course_photo_URL\n",
        "                              }))\n",
        "\n"
      ],
      "execution_count": null,
      "outputs": []
    },
    {
      "cell_type": "code",
      "metadata": {
        "id": "HnS9_hdZ08Ga"
      },
      "source": [
        "edx_courses_catalog"
      ],
      "execution_count": null,
      "outputs": []
    },
    {
      "cell_type": "code",
      "metadata": {
        "id": "65vBO_NgGqy-"
      },
      "source": [
        "#writing into a .csv file\n",
        "edx_courses_catalog.to_csv('edx_courses_catalog.csv')"
      ],
      "execution_count": null,
      "outputs": []
    },
    {
      "cell_type": "code",
      "metadata": {
        "id": "z65NTAPvGwxN"
      },
      "source": [
        "edx_courses_catalog.university_logo.unique"
      ],
      "execution_count": null,
      "outputs": []
    },
    {
      "cell_type": "code",
      "metadata": {
        "id": "Yh-zUhVr9qli"
      },
      "source": [
        "from google.colab import files\n",
        "uploaded = files.upload()\n",
        "\n",
        "import io\n",
        "edx_courses_catalog = pd.read_csv(io.BytesIO(uploaded[r'edx_courses_catalog.csv']))\n",
        "edx_courses_catalog.head()"
      ],
      "execution_count": null,
      "outputs": []
    },
    {
      "cell_type": "code",
      "metadata": {
        "id": "IVzi7cDbnXRn"
      },
      "source": [
        "course_length=[]\n",
        "course_level=[]\n",
        "course_subtitle=[]\n",
        "course_price=[]\n",
        "course_effort=[]\n",
        "course_language=[]\n",
        "course_price=[]\n",
        "course_enrollments=[]\n",
        "course_partner=[]\n",
        "university_link=[]\n",
        "#for c,ind in zip(cs.course_link,cs.index):\n",
        "for c,ind in zip(edx_courses_catalog.course_link,edx_courses_catalog.index):\n",
        "  driver = webdriver.Chrome(options=options)\n",
        "  driver.implicitly_wait(3)\n",
        "  driver.get(c)\n",
        "  page = driver.page_source\n",
        "  soup = BeautifulSoup(page, \"html.parser\")\n",
        "  print(ind)\n",
        "\n",
        "   \n",
        "\n",
        "#Attaching Course Enrollments\n",
        "  try:\n",
        "    enrol=soup.find('div',id=\"js-number-enrolled-label\")\n",
        "    enroll=enrol.find_all('span')[1].get_text()\n",
        "    course_enrollments.append(enroll)\n",
        "  except:\n",
        "    course_enrollments.append(\"not-mentioned\")\n",
        "  try:\n",
        "    check=soup.find_all('li',class_=\"list-group-item d-flex row px-0\")\n",
        "    leng,eff,lev,lng,sub,pric='','','','','',''\n",
        "    for che in check:\n",
        "      #Attaching Course Length\n",
        "      t=che.get_text()\n",
        "      if \"Length\"in t:\n",
        "        leng=t.lstrip('Length:')\n",
        "        course_length.append(leng)\n",
        "      #Attaching Course Effort\n",
        "      elif \"Effort\"in t:\n",
        "        eff=t.lstrip('Effort:')\n",
        "        course_effort.append(eff)\n",
        "      #Attaching Course Level\n",
        "      elif \"Level\"in t:\n",
        "        lev=t.lstrip('Level:')\n",
        "        course_level.append(lev)\n",
        "      #Attaching Course Language\n",
        "      elif \"Language\"in t:\n",
        "        lng=t.lstrip('Language:')\n",
        "        course_language.append(lng)\n",
        "      #Attaching Course Subtitles\n",
        "      elif \"Transcript\"in t:\n",
        "        sub=t.lstrip('Video Transcript:')\n",
        "        course_subtitle.append(sub)\n",
        "      #Attaching Course Price\n",
        "      elif \"Price\"in t:\n",
        "        pric=t.lstrip('Price:FREE Add a Verified Certificate for')\n",
        "        course_price.append(pric)\n",
        "    \n",
        "    if leng is '':\n",
        "      course_length.append(\"not-mentioned\")\n",
        "    elif eff is '':\n",
        "      course_effort.append(\"not-mentioned\")\n",
        "    elif lev is '':\n",
        "      course_level.append(\"not-mentioned\")\n",
        "    elif lng is '':\n",
        "      course_language.append(\"not-mentioned\")\n",
        "    elif sub is '':\n",
        "      course_subtitle.append(\"not-mentioned\")\n",
        "    elif pric is '':\n",
        "      course_price.append(\"not-mentioned\")\n",
        "\n",
        "  except:\n",
        "    course_length.append(\"not-mentioned\")\n",
        "    course_effort.append(\"not-mentioned\")\n",
        "    course_level.append(\"not-mentioned\")\n",
        "    course_language.append(\"not-mentioned\")\n",
        "    course_subtitle.append(\"not-mentioned\")\n",
        "    course_price.append(\"not-mentioned\")\n",
        "\n",
        "\n",
        "\n",
        "  #Get University name and Partner Link\n",
        "  try:\n",
        "    univ=soup.find_all('div',class_='partner')\n",
        "    universit=[]\n",
        "    uni_link=[]\n",
        "    for u in univ:\n",
        "      ltp=u.find('a',class_='link').get_text()\n",
        "      universit.append(ltp)\n",
        "      univ_link=\"https://www.edx.org\"+u.find('a').get('href')\n",
        "      uni_link.append(univ_link)\n",
        "    \n",
        "    course_partner.append(universit)\n",
        "    university_link.append(uni_link)\n",
        "  except:\n",
        "    course_partner.append(\"not-mentioned\")\n",
        "    university_link.append(\"not-mentioned\")\n",
        "\n",
        "\n"
      ],
      "execution_count": null,
      "outputs": []
    },
    {
      "cell_type": "code",
      "metadata": {
        "id": "y4haLa2Aw9Hj",
        "outputId": "274efe6e-20ba-46bf-cbba-95fbca245cbf",
        "colab": {
          "base_uri": "https://localhost:8080/"
        }
      },
      "source": [
        "course_subtitle"
      ],
      "execution_count": null,
      "outputs": [
        {
          "output_type": "execute_result",
          "data": {
            "text/plain": [
              "['English', 'English']"
            ]
          },
          "metadata": {
            "tags": []
          },
          "execution_count": 65
        }
      ]
    },
    {
      "cell_type": "code",
      "metadata": {
        "id": "W8ILhDNYjBAw"
      },
      "source": [
        "edx_courses_catalog_full=pd.DataFrame(({'course_name':course_name,\n",
        "                              'course_link':course_link,\n",
        "                              'university_name':university_name,\n",
        "                              'course_photo_URL':course_photo_URL,\n",
        "                              'course_level':course_level,\n",
        "                              'course_effort':course_effort,\n",
        "                              'course_length':course_length,\n",
        "                              'course_language':course_language,\n",
        "                              'course_subtitle':course_subtitle,\n",
        "                              'course_price':course_price,\n",
        "                              'course_partner':course_partner,\n",
        "                              'university_link':university_link}))"
      ],
      "execution_count": null,
      "outputs": []
    },
    {
      "cell_type": "code",
      "metadata": {
        "id": "TsIhsD8lDgJA",
        "outputId": "ce1f5d2c-fb2f-4871-880f-147bb10ee906",
        "colab": {
          "base_uri": "https://localhost:8080/"
        }
      },
      "source": [
        "#Attaching Course Language\n",
        "len(course_price)"
      ],
      "execution_count": null,
      "outputs": [
        {
          "output_type": "execute_result",
          "data": {
            "text/plain": [
              "1949"
            ]
          },
          "metadata": {
            "tags": []
          },
          "execution_count": 50
        }
      ]
    },
    {
      "cell_type": "code",
      "metadata": {
        "id": "CCgeKcmX_L0m"
      },
      "source": [
        "course_partner"
      ],
      "execution_count": null,
      "outputs": []
    },
    {
      "cell_type": "code",
      "metadata": {
        "id": "ZWfVEEaQ_Nwu"
      },
      "source": [
        "course_length=[]\n",
        "  fet=soup.find_all('div',class_='col d-flex')\n",
        "  for f in fet:\n",
        "    t=f.find('div',class_=\"col d-flex\").get_text()\n",
        "    if \"Length\"in t:\n",
        "      leng=f.find(\"div\",class_=\"col\").get_text()\n",
        "      course_length.append(leng)\n",
        "    elif \"Effort\"in t:\n",
        "      eff=f.find(\"div\",class_=\"col\").get_text()\n",
        "      course_length.append(eff)\n",
        "    elif \"Level\"in t:\n",
        "      lev=f.find(\"div\",class_=\"col\").get_text()\n",
        "      course_length.append(lev)\n",
        "    elif \"Language\"in t:\n",
        "      lng=f.find(\"div\",class_=\"col\").get_text()\n",
        "      course_length.append(lng)\n",
        "    elif \"Transcript\"in t:\n",
        "      sub=f.find(\"div\",class_=\"col\").get_text()\n",
        "      course_length.append(sub)"
      ],
      "execution_count": null,
      "outputs": []
    }
  ]
}